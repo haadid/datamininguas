{
 "cells": [
  {
   "cell_type": "code",
   "execution_count": 1,
   "metadata": {
    "collapsed": true,
    "ExecuteTime": {
     "end_time": "2023-07-24T08:38:58.173107700Z",
     "start_time": "2023-07-24T08:38:13.305325900Z"
    }
   },
   "outputs": [
    {
     "name": "stdout",
     "output_type": "stream",
     "text": [
      "Collecting git+https://github.com/LIAAD/yake\n",
      "  Cloning https://github.com/LIAAD/yake to c:\\users\\mrwnh\\appdata\\local\\temp\\pip-req-build-trwmcu31\n",
      "  Resolved https://github.com/LIAAD/yake to commit 374fc1c1c19eb080d5b6115cbb8d4a4324392e54\n",
      "  Preparing metadata (setup.py): started\n",
      "  Preparing metadata (setup.py): finished with status 'done'\n",
      "Collecting tabulate\n",
      "  Downloading tabulate-0.9.0-py3-none-any.whl (35 kB)\n",
      "Collecting click>=6.0\n",
      "  Downloading click-8.1.6-py3-none-any.whl (97 kB)\n",
      "     ---------------------------------------- 97.9/97.9 kB 2.7 MB/s eta 0:00:00\n",
      "Collecting numpy\n",
      "  Using cached numpy-1.24.4-cp38-cp38-win_amd64.whl (14.9 MB)\n",
      "Collecting segtok\n",
      "  Downloading segtok-1.5.11-py3-none-any.whl (24 kB)\n",
      "Collecting networkx\n",
      "  Downloading networkx-3.1-py3-none-any.whl (2.1 MB)\n",
      "     ---------------------------------------- 2.1/2.1 MB 2.9 MB/s eta 0:00:00\n",
      "Collecting jellyfish\n",
      "  Downloading jellyfish-1.0.0-cp38-none-win_amd64.whl (206 kB)\n",
      "     -------------------------------------- 206.2/206.2 kB 2.5 MB/s eta 0:00:00\n",
      "Requirement already satisfied: colorama in d:\\kuliah\\data mining\\uas\\venv\\lib\\site-packages (from click>=6.0->yake==0.4.8) (0.4.6)\n",
      "Collecting regex\n",
      "  Downloading regex-2023.6.3-cp38-cp38-win_amd64.whl (268 kB)\n",
      "     -------------------------------------- 268.1/268.1 kB 5.5 MB/s eta 0:00:00\n",
      "Building wheels for collected packages: yake\n",
      "  Building wheel for yake (setup.py): started\n",
      "  Building wheel for yake (setup.py): finished with status 'done'\n",
      "  Created wheel for yake: filename=yake-0.4.8-py2.py3-none-any.whl size=62865 sha256=6816d1a9659a8914760c1c708b950fdbefee0e937d09d1378b596743088807f3\n",
      "  Stored in directory: C:\\Users\\mrwnh\\AppData\\Local\\Temp\\pip-ephem-wheel-cache-z4e34czd\\wheels\\91\\6a\\18\\ab7d2fc1e58b6ed936dbe90881425aea909bae3f98dae32f66\n",
      "Successfully built yake\n",
      "Installing collected packages: tabulate, regex, numpy, networkx, jellyfish, click, segtok, yake\n",
      "Successfully installed click-8.1.6 jellyfish-1.0.0 networkx-3.1 numpy-1.24.4 regex-2023.6.3 segtok-1.5.11 tabulate-0.9.0 yake-0.4.8\n"
     ]
    },
    {
     "name": "stderr",
     "output_type": "stream",
     "text": [
      "  Running command git clone --filter=blob:none --quiet https://github.com/LIAAD/yake 'C:\\Users\\mrwnh\\AppData\\Local\\Temp\\pip-req-build-trwmcu31'\n",
      "\n",
      "[notice] A new release of pip available: 22.3.1 -> 23.2.1\n",
      "[notice] To update, run: python.exe -m pip install --upgrade pip\n"
     ]
    },
    {
     "name": "stdout",
     "output_type": "stream",
     "text": [
      "Collecting nltk\n",
      "  Downloading nltk-3.8.1-py3-none-any.whl (1.5 MB)\n",
      "     ---------------------------------------- 1.5/1.5 MB 3.8 MB/s eta 0:00:00\n",
      "Requirement already satisfied: regex>=2021.8.3 in d:\\kuliah\\data mining\\uas\\venv\\lib\\site-packages (from nltk) (2023.6.3)\n",
      "Collecting joblib\n",
      "  Using cached joblib-1.3.1-py3-none-any.whl (301 kB)\n",
      "Collecting tqdm\n",
      "  Using cached tqdm-4.65.0-py3-none-any.whl (77 kB)\n",
      "Requirement already satisfied: click in d:\\kuliah\\data mining\\uas\\venv\\lib\\site-packages (from nltk) (8.1.6)\n",
      "Requirement already satisfied: colorama in d:\\kuliah\\data mining\\uas\\venv\\lib\\site-packages (from click->nltk) (0.4.6)\n",
      "Installing collected packages: tqdm, joblib, nltk\n",
      "Successfully installed joblib-1.3.1 nltk-3.8.1 tqdm-4.65.0\n"
     ]
    },
    {
     "name": "stderr",
     "output_type": "stream",
     "text": [
      "\n",
      "[notice] A new release of pip available: 22.3.1 -> 23.2.1\n",
      "[notice] To update, run: python.exe -m pip install --upgrade pip\n"
     ]
    }
   ],
   "source": [
    "!pip install git+https://github.com/LIAAD/yake\n",
    "!pip install nltk"
   ]
  },
  {
   "cell_type": "code",
   "execution_count": 9,
   "outputs": [
    {
     "name": "stderr",
     "output_type": "stream",
     "text": [
      "[nltk_data] Downloading package punkt to\n",
      "[nltk_data]     C:\\Users\\mrwnh\\AppData\\Roaming\\nltk_data...\n",
      "[nltk_data]   Package punkt is already up-to-date!\n",
      "[nltk_data] Downloading package stopwords to\n",
      "[nltk_data]     C:\\Users\\mrwnh\\AppData\\Roaming\\nltk_data...\n",
      "[nltk_data]   Package stopwords is already up-to-date!\n"
     ]
    },
    {
     "data": {
      "text/plain": "True"
     },
     "execution_count": 9,
     "metadata": {},
     "output_type": "execute_result"
    }
   ],
   "source": [
    "import os\n",
    "import yake\n",
    "import nltk\n",
    "from nltk.corpus import stopwords\n",
    "from nltk.tokenize import word_tokenize\n",
    "from nltk.stem import PorterStemmer\n",
    "import string\n",
    "\n",
    "nltk.download('punkt')\n",
    "nltk.download('stopwords')"
   ],
   "metadata": {
    "collapsed": false,
    "ExecuteTime": {
     "end_time": "2023-07-24T08:50:25.381798100Z",
     "start_time": "2023-07-24T08:50:25.347930100Z"
    }
   }
  },
  {
   "cell_type": "code",
   "execution_count": 18,
   "outputs": [],
   "source": [
    "def preprocess_text(text):\n",
    "    # Tokenisasi teks menjadi kata-kata\n",
    "    words = word_tokenize(text.lower())\n",
    "\n",
    "    # Penghapusan tanda baca dan karakter non-abjad\n",
    "    words_filtered = [word for word in words if word.isalnum()]\n",
    "\n",
    "    # Penghapusan kata-kata stopword\n",
    "    stop_words = set(stopwords.words(\"indonesian\"))\n",
    "    words_filtered = [word for word in words_filtered if word not in stop_words]\n",
    "\n",
    "    # Stemming kata-kata untuk mendapatkan bentuk kata dasar\n",
    "    ps = PorterStemmer()\n",
    "    words_stemmed = [ps.stem(word) for word in words_filtered]\n",
    "\n",
    "    return \" \".join(words_stemmed)\n",
    "\n",
    "def yake_keywords(text, max_keywords=5):\n",
    "    # Inisialisasi ekstraktor YAKE\n",
    "    custom_kw_extractor = yake.KeywordExtractor(n=1, top=max_keywords, features=None)\n",
    "\n",
    "    # Ekstraksi kata kunci menggunakan YAKE\n",
    "    keywords = custom_kw_extractor.extract_keywords(text)\n",
    "\n",
    "    return [keyword for keyword, score in keywords]\n",
    "\n",
    "def read_abstract_from_file(file_path):\n",
    "    with open(file_path, 'r', encoding='utf-8') as file:\n",
    "        return file.read()"
   ],
   "metadata": {
    "collapsed": false,
    "ExecuteTime": {
     "end_time": "2023-07-24T08:57:09.615907500Z",
     "start_time": "2023-07-24T08:57:09.606590Z"
    }
   }
  },
  {
   "cell_type": "code",
   "execution_count": 19,
   "outputs": [
    {
     "name": "stdout",
     "output_type": "stream",
     "text": [
      "Abstrak abstrak1.txt:\n",
      "Preprocessed Text: perkembangan teknolog informasi komunikasi menyebabkan kebutuhan pasar smartphon meningkat perusahaan meluncurkan produk smartphon fitur kecanggihan beragam persaingan menyebabkan konsumen kebingungan memilih produk sesuai kebutuhan kemampuan internet sarana utama penyedia informasi kebutuhan manusia sistem rekomendasi berbasi websit membantu calon konsumen mengambil keputusan pembelian smartphon pemanfaatan metod simpl addit weight mewujudkan kemudahan pengambilan keputusan metod dipilih prose perangkingan menyeleksi alternatif terbaik alternatif perangkingan didasarkan akumulasi nilai bobot ditentukan pembuatan sistem diawali menentukan kriteria calon konsumen memb smartphon mengumpulkan produk smartphon diambil sumber internet implementasi metod pembuatan sistem bahasa pemrograman php laravel mysql pengujian sistem validasi hasil perhitungan sistem perhitungan manual hasil penelitian sistem rekomendasi berjalan pengujian hasil perhitungan manual kunci simpl addit weight smartphon rekomendasi\n",
      "Keywords: ['sistem', 'smartphon', 'perhitungan', 'produk', 'konsumen']\n",
      "\n",
      "Abstrak abstrak2.txt:\n",
      "Preprocessed Text: program pendidikan sarjana indonesia akreditasi dewan pendidikan ditingkatkan kualitasnya prose penilaian program pendidikan sarjana s1 teknik informatika program pendidikan berkelanjutan memiliki beban studi minim 144 sk studi 7 14 semest kurikulum reason cbr teknik penalaran memecahkan mengidentifikasi prosedur mengukur nilai atribut rentang ditentukan diken normalisasi metod cosin similar metod menghitung kemiripan tingkat kesamaan buah objek nilai cosin similar kemiripan basi nilai terdekat tertinggi data nilai ketepatan prediksi contoh no 3 nilai tertinggi dimana diprediksi data asli data menyelesaikan studi 10 semest prediksi prediksi studi 8 semest hasil evaluasi sistem mape diperoleh eror tingkat akurasi sistem mengartikan model peramalan sistem berbasi case base reason metod cosin similar memiliki kemampuan prose perhitungan memprediksi studi mahasiswa kunci prediksi studi case base reason cosin similar\n",
      "Keywords: ['cosin', 'similar', 'pendidikan', 'semest', 'studi']\n",
      "\n",
      "Abstrak abstrak3.txt:\n",
      "Preprocessed Text: prestasi siswa hasil usaha prose belajar karakt orang berprestasi mencintai pekerjaan memiliki inisiatif kreatif pantang menyerah menjalankan tuga kebijakan diambil sekolah memilih siswa berprestasi layak siswa teladan objektif pemilihannya sekolah nilai pemilihan siswa berprestasi layak siswa teladan dibangun sistem komputerisasi pemilihan siswa berprestasi layak siswa teladan menerapkan metod analyt hierarchi process penelitian penuli mengunakan kriteria nilai absensi kemampuan bahasa inggri ekstrakurikul sistem berbasi web mempermudah menginformasikan terkait pemilihan siswa berprestasi layak siswa teladan hasil sistem diaks memanfaatkan media internet kunci sistem pendukung keputusan prestasi analyt hierarchi process\n",
      "Keywords: ['siswa', 'berprestasi', 'layak', 'teladan', 'pemilihan']\n",
      "\n",
      "Abstrak abstrak4.txt:\n",
      "Preprocessed Text: smk generasi madani salah sekolah menengah kejuruan berlokasi bogor jawa barat jurusan ditawarkan calon siswanya jurusan rekayasa perangkat lunak multimedia prose pemilihan jurusan dirasa pemilihan jurusan didasarkan minat potensi siswa berpengaruh kualita belajar siswa kedepannya sistem pendukung keputusan membantu sekolah calon siswa rekomendasi jurusan dipilih calon siswa berdasarkan perhitungan penilaian bobot kriteria ditentukan sistem metod weight product diharapkan membantu calon siswa mengambil keputusan cepat sistem pendukung keputusan bahasa pemrograman berbasi web hypertext preprocessor php basi data nya mysql sistem berbasi web user instalasi program perangkat pc sistem berhasil dibangun membantu calon siswa menentukan pilihan jurusan dipilih smk generasi madani kunci sistem pendukung keputusan weight product hypertext preprocessor php mysql pemilihan jurusan\n",
      "Keywords: ['calon', 'jurusan', 'siswa', 'pendukung', 'sistem']\n",
      "\n",
      "Abstrak abstrak5.txt:\n",
      "Preprocessed Text: salah prose dilewati siswa ma prose penjurusan prose penjurusan siswa kela xi prose bisni penjurusan biaya penggandaan angket penyebaran angket pengumpulan angket pengumuman penyederhanaan teknolog sistem informasi penjurusan diajukan menggantikkan prose bisni sistem guru bk penggandaan penyebaran pengumpulan kuision hasil implementasi sistem informasi penjurusan membuktikan sistem menyederhanakan prose penggandaan angket distribusi angket pengumpulan angket pengumuman menghemat biaya kunci sistem informasi penjurusan angket\n",
      "Keywords: ['angket', 'informasi', 'penjurusan', 'prose', 'sistem']\n",
      "\n"
     ]
    }
   ],
   "source": [
    "# Lokasi folder abstrak\n",
    "folder_path = \"abstrak/\"\n",
    "\n",
    "# Mengekstraksi kata kunci untuk setiap file abstrak dalam folder\n",
    "for filename in os.listdir(folder_path):\n",
    "    if filename.endswith(\".txt\"):\n",
    "        file_path = os.path.join(folder_path, filename)\n",
    "\n",
    "        # Baca isi file abstrak\n",
    "        text = read_abstract_from_file(file_path)\n",
    "\n",
    "        # Pra-pemrosesan teks\n",
    "        preprocessed_text = preprocess_text(text)\n",
    "\n",
    "        print(f\"Abstrak {filename}:\")\n",
    "        print(\"Preprocessed Text:\", preprocessed_text)\n",
    "\n",
    "        # Ekstraksi kata kunci menggunakan YAKE\n",
    "        keywords = yake_keywords(preprocessed_text)\n",
    "\n",
    "        print(\"Keywords:\", keywords)\n",
    "        print()"
   ],
   "metadata": {
    "collapsed": false,
    "ExecuteTime": {
     "end_time": "2023-07-24T08:57:18.540519100Z",
     "start_time": "2023-07-24T08:57:18.414119900Z"
    }
   }
  }
 ],
 "metadata": {
  "kernelspec": {
   "display_name": "Python 3",
   "language": "python",
   "name": "python3"
  },
  "language_info": {
   "codemirror_mode": {
    "name": "ipython",
    "version": 2
   },
   "file_extension": ".py",
   "mimetype": "text/x-python",
   "name": "python",
   "nbconvert_exporter": "python",
   "pygments_lexer": "ipython2",
   "version": "2.7.6"
  }
 },
 "nbformat": 4,
 "nbformat_minor": 0
}
